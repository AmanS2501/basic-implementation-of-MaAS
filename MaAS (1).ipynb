{
  "nbformat": 4,
  "nbformat_minor": 0,
  "metadata": {
    "colab": {
      "provenance": []
    },
    "kernelspec": {
      "name": "python3",
      "display_name": "Python 3"
    },
    "language_info": {
      "name": "python"
    }
  },
  "cells": [
    {
      "cell_type": "code",
      "source": [
        "import random"
      ],
      "metadata": {
        "id": "SdLzKWc4g3vA"
      },
      "execution_count": 26,
      "outputs": []
    },
    {
      "cell_type": "code",
      "source": [
        "AGENTIC_MODULES = {\n",
        "    \"IO\": {\"cost\": 1, \"description\": \"Simple Input/Output Agent\"},\n",
        "    \"CoT\": {\"cost\": 3, \"description\": \"Chain-of-Thought Reasoning Agent\"},\n",
        "    \"ReAct\": {\"cost\": 5, \"description\": \"Reasoning+Action Agent (e.g., tool use)\"},\n",
        "    \"Debate\": {\"cost\": 8, \"description\": \"Multi-Agent Debate for Complex Problems\"},\n",
        "    \"Reflexion\": {\"cost\": 4, \"description\": \"Self-Reflection Agent\"},\n",
        "    \"WebSearch\": {\"cost\": 2, \"description\": \"Web Searching Agent\"},\n",
        "    \"EarlyExit\": {\"cost\": 0, \"description\": \"Exit sampling process\"}\n",
        "}"
      ],
      "metadata": {
        "id": "rXsi_YK4V2eC"
      },
      "execution_count": 19,
      "outputs": []
    },
    {
      "cell_type": "code",
      "source": [
        "class SimpleMaASController:\n",
        "    def __init__(self, modules):\n",
        "        self.modules = modules\n",
        "\n",
        "        self.difficulty_mapping = {\n",
        "            \"easy\": {\"preferred\": [\"IO\"], \"max_cost\": 2},\n",
        "            \"medium\": {\"preferred\": [\"IO\", \"CoT\", \"ReAct\"], \"max_cost\": 6},\n",
        "            \"hard\": {\"preferred\": [\"CoT\", \"ReAct\", \"Debate\"], \"max_cost\": 15},\n",
        "        }\n",
        "\n",
        "    def sample_architecture(self, query_difficulty, cost_aware=True):\n",
        "        if query_difficulty not in self.difficulty_mapping:\n",
        "            print(f\"Warning: Unknown difficulty '{query_difficulty}'. Defaulting to 'medium'.\")\n",
        "            query_difficulty = \"medium\"\n",
        "\n",
        "        config = self.difficulty_mapping[query_difficulty]\n",
        "        preferred_modules = config[\"preferred\"]\n",
        "        max_cost = config[\"max_cost\"]\n",
        "\n",
        "        sampled_architecture = []\n",
        "        current_cost = 0\n",
        "\n",
        "\n",
        "        initial_choice = random.choice([m for m in preferred_modules if m in self.modules])\n",
        "        if self.modules[initial_choice][\"cost\"] <= max_cost or not cost_aware:\n",
        "             sampled_architecture.append(initial_choice)\n",
        "             current_cost += self.modules[initial_choice][\"cost\"]\n",
        "\n",
        "\n",
        "        potential_additions = [m for m in self.modules if m not in sampled_architecture]\n",
        "        random.shuffle(potential_additions)\n",
        "\n",
        "        for module_name in potential_additions:\n",
        "             module_cost = self.modules[module_name][\"cost\"]\n",
        "\n",
        "             if not cost_aware or (current_cost + module_cost <= max_cost) :\n",
        "                  if random.random() > 0.4:\n",
        "                    sampled_architecture.append(module_name)\n",
        "                    current_cost += module_cost\n",
        "\n",
        "             if cost_aware and current_cost >= max_cost:\n",
        "                  break\n",
        "\n",
        "        if not sampled_architecture:\n",
        "\n",
        "            cheapest_preferred = min(preferred_modules, key=lambda m: self.modules[m][\"cost\"])\n",
        "            if self.modules[cheapest_preferred][\"cost\"] <= max_cost or not cost_aware:\n",
        "                 sampled_architecture.append(cheapest_preferred)\n",
        "            else:\n",
        "\n",
        "\n",
        "                 absolute_cheapest = min(self.modules, key=lambda m: self.modules[m][\"cost\"])\n",
        "                 sampled_architecture.append(absolute_cheapest)\n",
        "\n",
        "\n",
        "        print(f\"\\n--- Sampling for Difficulty: {query_difficulty} (Cost Aware: {cost_aware}) ---\")\n",
        "        print(f\"Target Max Cost: {'N/A' if not cost_aware else max_cost}\")\n",
        "        print(f\"Sampled Architecture: {sampled_architecture}\")\n",
        "        print(f\"Estimated Cost: {sum(self.modules[m]['cost'] for m in sampled_architecture)}\")\n",
        "\n",
        "        return sampled_architecture"
      ],
      "metadata": {
        "id": "PgsNESFMWBws"
      },
      "execution_count": 20,
      "outputs": []
    },
    {
      "cell_type": "code",
      "source": [
        "#EXAMPLE\n",
        "controller = SimpleMaASController(AGENTIC_MODULES)\n",
        "\n",
        "print(\"Simulating MaAS Controller Sampling...\")"
      ],
      "metadata": {
        "colab": {
          "base_uri": "https://localhost:8080/"
        },
        "id": "6MYnPYLRWLOR",
        "outputId": "9aca589a-20b5-4463-e483-ab7262e50011"
      },
      "execution_count": 21,
      "outputs": [
        {
          "output_type": "stream",
          "name": "stdout",
          "text": [
            "Simulating MaAS Controller Sampling...\n"
          ]
        }
      ]
    },
    {
      "cell_type": "code",
      "source": [
        "#EASY QUERY\n",
        "controller.sample_architecture(\"easy\", cost_aware=True)"
      ],
      "metadata": {
        "colab": {
          "base_uri": "https://localhost:8080/"
        },
        "id": "pw6dsZJNWP_8",
        "outputId": "ad3cce2c-df4d-4455-ff35-5a782c527a0f"
      },
      "execution_count": 22,
      "outputs": [
        {
          "output_type": "stream",
          "name": "stdout",
          "text": [
            "\n",
            "--- Sampling for Difficulty: easy (Cost Aware: True) ---\n",
            "Target Max Cost: 2\n",
            "Sampled Architecture: ['IO']\n",
            "Estimated Cost: 1\n"
          ]
        },
        {
          "output_type": "execute_result",
          "data": {
            "text/plain": [
              "['IO']"
            ]
          },
          "metadata": {},
          "execution_count": 22
        }
      ]
    },
    {
      "cell_type": "code",
      "source": [
        "#MEDIUM QUERY\n",
        "controller.sample_architecture(\"medium\", cost_aware=True)"
      ],
      "metadata": {
        "colab": {
          "base_uri": "https://localhost:8080/"
        },
        "id": "V1T4cDb9WR2j",
        "outputId": "b6b1e660-0e7c-4787-d56f-2841c8c74ad6"
      },
      "execution_count": 23,
      "outputs": [
        {
          "output_type": "stream",
          "name": "stdout",
          "text": [
            "\n",
            "--- Sampling for Difficulty: medium (Cost Aware: True) ---\n",
            "Target Max Cost: 6\n",
            "Sampled Architecture: ['ReAct', 'IO']\n",
            "Estimated Cost: 6\n"
          ]
        },
        {
          "output_type": "execute_result",
          "data": {
            "text/plain": [
              "['ReAct', 'IO']"
            ]
          },
          "metadata": {},
          "execution_count": 23
        }
      ]
    },
    {
      "cell_type": "code",
      "source": [
        "#HARD QUERY\n",
        "controller.sample_architecture(\"hard\", cost_aware=True)"
      ],
      "metadata": {
        "colab": {
          "base_uri": "https://localhost:8080/"
        },
        "id": "WUNUS5uvWT8a",
        "outputId": "b9759c19-2179-4413-c7ad-16c75e93f56a"
      },
      "execution_count": 24,
      "outputs": [
        {
          "output_type": "stream",
          "name": "stdout",
          "text": [
            "\n",
            "--- Sampling for Difficulty: hard (Cost Aware: True) ---\n",
            "Target Max Cost: 15\n",
            "Sampled Architecture: ['ReAct', 'Debate', 'WebSearch']\n",
            "Estimated Cost: 15\n"
          ]
        },
        {
          "output_type": "execute_result",
          "data": {
            "text/plain": [
              "['ReAct', 'Debate', 'WebSearch']"
            ]
          },
          "metadata": {},
          "execution_count": 24
        }
      ]
    },
    {
      "cell_type": "code",
      "source": [
        "#UNAWARE\n",
        "controller.sample_architecture(\"medium\", cost_aware=False)"
      ],
      "metadata": {
        "colab": {
          "base_uri": "https://localhost:8080/"
        },
        "id": "ahP6wSibWaGs",
        "outputId": "f7d86c75-02e1-4586-8c62-aedabf093cda"
      },
      "execution_count": 25,
      "outputs": [
        {
          "output_type": "stream",
          "name": "stdout",
          "text": [
            "\n",
            "--- Sampling for Difficulty: medium (Cost Aware: False) ---\n",
            "Target Max Cost: N/A\n",
            "Sampled Architecture: ['IO', 'Debate', 'ReAct']\n",
            "Estimated Cost: 14\n"
          ]
        },
        {
          "output_type": "execute_result",
          "data": {
            "text/plain": [
              "['IO', 'Debate', 'ReAct']"
            ]
          },
          "metadata": {},
          "execution_count": 25
        }
      ]
    }
  ]
}